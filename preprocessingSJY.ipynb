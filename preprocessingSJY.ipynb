{
  "nbformat": 4,
  "nbformat_minor": 0,
  "metadata": {
    "colab": {
      "provenance": [],
      "toc_visible": true,
      "authorship_tag": "ABX9TyNF5Dje0McxzaQzsQ/s7RkB",
      "include_colab_link": true
    },
    "kernelspec": {
      "name": "python3",
      "display_name": "Python 3"
    },
    "language_info": {
      "name": "python"
    }
  },
  "cells": [
    {
      "cell_type": "markdown",
      "metadata": {
        "id": "view-in-github",
        "colab_type": "text"
      },
      "source": [
        "<a href=\"https://colab.research.google.com/github/SieDeta/preprocessing/blob/main/preprocessingSJY.ipynb\" target=\"_parent\"><img src=\"https://colab.research.google.com/assets/colab-badge.svg\" alt=\"Open In Colab\"/></a>"
      ]
    },
    {
      "cell_type": "code",
      "execution_count": null,
      "metadata": {
        "id": "aImngx7HGp_g"
      },
      "outputs": [],
      "source": [
        "import numpy as np\n",
        "import matplotlib.pyplot as plt\n",
        "import pandas as pd"
      ]
    },
    {
      "cell_type": "code",
      "source": [
        "dataset = pd.read_csv('datapemilukpu.csv')\n",
        "x = dataset.iloc[:,:-1].values\n",
        "y = dataset.iloc[:,-1].values"
      ],
      "metadata": {
        "id": "cxaLWqEQGxz6"
      },
      "execution_count": null,
      "outputs": []
    },
    {
      "cell_type": "code",
      "source": [
        "print(x)"
      ],
      "metadata": {
        "colab": {
          "base_uri": "https://localhost:8080/"
        },
        "id": "qy8ttVysG4wV",
        "outputId": "1a25adb9-b8c0-4c96-e0f1-5d7ea8fd547e"
      },
      "execution_count": null,
      "outputs": [
        {
          "output_type": "stream",
          "name": "stdout",
          "text": [
            "[['HATI NURANI RAKYAT ' 1.0 18578.0 1.0 1.0 594.0]\n",
            " ['HATI NURANI RAKYAT ' 1.0 18578.0 1.0 1.0 943.0]\n",
            " ['HATI NURANI RAKYAT ' 1.0 18578.0 nan 1.0 1730.0]\n",
            " ...\n",
            " ['PARTAI BURUH' 44.0 11003.0 1.0 6.0 72.0]\n",
            " ['PARTAI BURUH' 44.0 11003.0 1.0 6.0 52.0]\n",
            " ['PARTAI BURUH' 44.0 11003.0 1.0 6.0 397.0]]\n"
          ]
        }
      ]
    },
    {
      "cell_type": "code",
      "source": [
        "print(y)"
      ],
      "metadata": {
        "colab": {
          "base_uri": "https://localhost:8080/"
        },
        "id": "cGSOpvtlG6sr",
        "outputId": "e6f4ebd2-8bb1-4a76-a32c-3d283dba669c"
      },
      "execution_count": null,
      "outputs": [
        {
          "output_type": "stream",
          "name": "stdout",
          "text": [
            "['TIDAK' 'TIDAK' 'TIDAK' 'YA' 'TIDAK' 'TIDAK' 'TIDAK' 'TIDAK' 'TIDAK'\n",
            " 'TIDAK' 'TIDAK' 'TIDAK' 'TIDAK' 'TIDAK' 'TIDAK' 'TIDAK' 'TIDAK' 'TIDAK'\n",
            " 'TIDAK' 'TIDAK' 'TIDAK' 'TIDAK' 'TIDAK' 'TIDAK' 'TIDAK' 'TIDAK' 'TIDAK'\n",
            " 'TIDAK' 'TIDAK' 'TIDAK' 'TIDAK' 'TIDAK' 'TIDAK' 'TIDAK' 'TIDAK' 'TIDAK'\n",
            " 'TIDAK' 'TIDAK' 'TIDAK' 'TIDAK' 'TIDAK' 'TIDAK' 'TIDAK' 'TIDAK' 'TIDAK'\n",
            " 'TIDAK' 'YA' 'TIDAK' 'TIDAK' 'TIDAK' 'TIDAK' 'TIDAK' 'TIDAK' 'TIDAK'\n",
            " 'TIDAK' 'TIDAK' 'TIDAK' 'TIDAK' 'TIDAK' 'TIDAK' 'TIDAK' 'TIDAK' 'TIDAK'\n",
            " 'TIDAK' 'TIDAK' 'TIDAK' 'TIDAK' 'TIDAK' 'TIDAK' 'TIDAK' 'YA' 'TIDAK'\n",
            " 'TIDAK' 'TIDAK' 'TIDAK' 'TIDAK' 'TIDAK' 'TIDAK' 'TIDAK' 'TIDAK' 'TIDAK'\n",
            " 'TIDAK' 'TIDAK' 'TIDAK' 'TIDAK' 'TIDAK' 'TIDAK' 'TIDAK' 'TIDAK' 'TIDAK'\n",
            " 'YA' 'TIDAK' 'TIDAK' 'TIDAK' 'YA' 'TIDAK' 'TIDAK' 'TIDAK' 'TIDAK' 'TIDAK'\n",
            " 'TIDAK' 'TIDAK' 'TIDAK' 'TIDAK' 'YA' 'TIDAK' 'TIDAK' 'TIDAK' 'TIDAK'\n",
            " 'TIDAK' 'TIDAK' 'TIDAK' 'TIDAK' 'TIDAK' 'TIDAK' 'TIDAK' 'TIDAK' 'YA'\n",
            " 'TIDAK' 'TIDAK' 'TIDAK' 'TIDAK' 'TIDAK' 'TIDAK' 'YA' 'TIDAK' 'TIDAK'\n",
            " 'TIDAK' 'TIDAK' 'TIDAK' 'TIDAK' 'TIDAK' 'TIDAK' 'TIDAK' 'YA' 'TIDAK'\n",
            " 'TIDAK' 'YA' 'TIDAK' 'TIDAK' 'TIDAK' 'TIDAK' 'YA' 'TIDAK' 'TIDAK' 'TIDAK'\n",
            " 'TIDAK' 'TIDAK' 'YA' 'TIDAK' 'TIDAK' 'TIDAK' 'TIDAK' 'TIDAK' 'TIDAK'\n",
            " 'TIDAK' 'YA' 'TIDAK' 'TIDAK' 'TIDAK' 'TIDAK' 'TIDAK' 'TIDAK' 'TIDAK'\n",
            " 'TIDAK' 'YA' 'TIDAK' 'TIDAK' 'TIDAK' 'YA' 'TIDAK' 'TIDAK' 'TIDAK' 'TIDAK'\n",
            " 'TIDAK' 'YA' 'TIDAK' 'TIDAK' 'TIDAK' 'TIDAK' 'TIDAK' 'TIDAK' 'TIDAK'\n",
            " 'TIDAK' 'TIDAK' 'YA' 'TIDAK' 'YA' 'TIDAK' 'TIDAK' 'TIDAK' 'TIDAK' 'YA'\n",
            " 'TIDAK' 'YA' 'TIDAK' 'TIDAK' 'TIDAK' 'TIDAK' 'TIDAK' 'TIDAK' 'TIDAK'\n",
            " 'TIDAK' 'TIDAK' 'TIDAK' 'TIDAK' 'TIDAK' 'TIDAK' 'TIDAK' 'TIDAK' 'TIDAK'\n",
            " 'TIDAK' 'TIDAK' 'TIDAK' 'TIDAK' 'TIDAK' 'TIDAK' 'TIDAK' 'TIDAK' 'TIDAK'\n",
            " 'TIDAK' 'TIDAK' 'TIDAK' 'TIDAK' 'TIDAK' 'YA' 'TIDAK' 'TIDAK' 'TIDAK'\n",
            " 'TIDAK' 'TIDAK' 'TIDAK' 'TIDAK' 'TIDAK' 'TIDAK' 'TIDAK' 'YA' 'YA' 'TIDAK'\n",
            " 'TIDAK' 'TIDAK' 'TIDAK' 'TIDAK' 'TIDAK' 'YA' 'TIDAK' 'TIDAK' 'TIDAK'\n",
            " 'TIDAK' 'TIDAK' 'TIDAK' 'TIDAK' 'TIDAK' 'TIDAK' 'YA' 'TIDAK' 'TIDAK'\n",
            " 'TIDAK' 'TIDAK' 'TIDAK' 'YA' 'TIDAK' 'TIDAK' 'TIDAK' 'TIDAK' 'TIDAK'\n",
            " 'TIDAK' 'TIDAK' 'YA' 'TIDAK' 'TIDAK' 'TIDAK' 'TIDAK' 'TIDAK' 'YA' 'TIDAK'\n",
            " 'TIDAK' 'TIDAK' 'TIDAK' 'TIDAK' 'TIDAK' 'TIDAK' 'TIDAK' 'TIDAK' 'TIDAK'\n",
            " 'TIDAK' 'TIDAK' 'TIDAK' 'TIDAK' 'TIDAK' 'TIDAK' 'TIDAK' 'TIDAK' 'TIDAK'\n",
            " 'TIDAK' 'TIDAK' 'TIDAK' 'YA' 'YA' 'TIDAK' 'TIDAK' 'TIDAK' 'TIDAK' 'TIDAK'\n",
            " 'TIDAK' 'TIDAK' 'TIDAK' 'TIDAK' 'YA' 'TIDAK' 'TIDAK' 'TIDAK' 'TIDAK'\n",
            " 'TIDAK' 'TIDAK' 'YA' 'YA' 'TIDAK' 'TIDAK' 'TIDAK' 'TIDAK' 'TIDAK' 'YA'\n",
            " 'YA' 'YA' 'TIDAK' 'TIDAK' 'TIDAK' 'TIDAK' 'TIDAK' 'TIDAK' 'TIDAK' 'YA'\n",
            " 'YA' 'TIDAK' 'TIDAK' 'TIDAK' 'TIDAK' 'TIDAK' 'TIDAK' 'TIDAK' 'TIDAK' 'YA'\n",
            " 'TIDAK' 'TIDAK' 'TIDAK' 'TIDAK' 'TIDAK' 'YA' 'TIDAK' 'YA' 'TIDAK' 'TIDAK'\n",
            " 'TIDAK' 'TIDAK' 'TIDAK' 'TIDAK' 'TIDAK' 'TIDAK' 'TIDAK' 'TIDAK' 'TIDAK'\n",
            " 'TIDAK' 'TIDAK' 'YA' 'TIDAK' 'TIDAK' 'TIDAK' 'TIDAK' 'YA' 'TIDAK' 'TIDAK'\n",
            " 'YA' 'TIDAK' 'TIDAK' 'YA' 'TIDAK' 'TIDAK' 'TIDAK' 'TIDAK' 'TIDAK' 'TIDAK'\n",
            " 'TIDAK' 'TIDAK' 'YA' 'YA' 'TIDAK' 'TIDAK' 'TIDAK' 'TIDAK' 'TIDAK' 'TIDAK'\n",
            " 'TIDAK' 'TIDAK' 'TIDAK' 'TIDAK' 'TIDAK' 'TIDAK' 'TIDAK' 'TIDAK' 'TIDAK'\n",
            " 'TIDAK' 'TIDAK' 'TIDAK' 'TIDAK' 'TIDAK' 'TIDAK' 'TIDAK' 'TIDAK' 'TIDAK'\n",
            " 'TIDAK' 'TIDAK' 'TIDAK' 'TIDAK' 'TIDAK' 'TIDAK' 'TIDAK' 'TIDAK' 'YA'\n",
            " 'TIDAK' 'TIDAK' 'TIDAK' 'TIDAK' 'TIDAK' 'TIDAK']\n"
          ]
        }
      ]
    },
    {
      "cell_type": "code",
      "source": [
        "print(dataset.columns)\n",
        "print(dataset.dtypes)"
      ],
      "metadata": {
        "colab": {
          "base_uri": "https://localhost:8080/"
        },
        "id": "lEh9sik1H3A0",
        "outputId": "2eab0101-4c0e-43c6-f345-9c7b55ae9e0b"
      },
      "execution_count": null,
      "outputs": [
        {
          "output_type": "stream",
          "name": "stdout",
          "text": [
            "Index(['NAMA PARTAI POLITIK', 'NO.URUT PARPOL', 'SUARA SAH PARTAI',\n",
            "       'JUML.PEROLEHAN KURSI', 'DAERAH PEMILIHAN', 'SUARA SAH CALEG',\n",
            "       'TERPILIH ATAU TIDAK'],\n",
            "      dtype='object')\n",
            "NAMA PARTAI POLITIK      object\n",
            "NO.URUT PARPOL          float64\n",
            "SUARA SAH PARTAI        float64\n",
            "JUML.PEROLEHAN KURSI    float64\n",
            "DAERAH PEMILIHAN        float64\n",
            "SUARA SAH CALEG         float64\n",
            "TERPILIH ATAU TIDAK      object\n",
            "dtype: object\n"
          ]
        }
      ]
    },
    {
      "cell_type": "code",
      "source": [
        "from sklearn.impute import SimpleImputer\n",
        "imputer = SimpleImputer(missing_values=np.nan, strategy='mean')\n",
        "imputer.fit(x[:, 3:8])\n",
        "x[:, 3:8] = imputer.transform(x[:, 3:8])"
      ],
      "metadata": {
        "id": "yJ7IHhQGG9BK"
      },
      "execution_count": null,
      "outputs": []
    },
    {
      "cell_type": "code",
      "source": [
        "print(x)"
      ],
      "metadata": {
        "colab": {
          "base_uri": "https://localhost:8080/"
        },
        "id": "1CvI-s0AIb8u",
        "outputId": "1c694265-216f-47a2-c893-bb05555747e1"
      },
      "execution_count": null,
      "outputs": [
        {
          "output_type": "stream",
          "name": "stdout",
          "text": [
            "[['HATI NURANI RAKYAT ' 1.0 18578.0 1.0 1.0 594.0]\n",
            " ['HATI NURANI RAKYAT ' 1.0 18578.0 1.0 1.0 943.0]\n",
            " ['HATI NURANI RAKYAT ' 1.0 18578.0 4.629353233830845 1.0 1730.0]\n",
            " ...\n",
            " ['PARTAI BURUH' 44.0 11003.0 1.0 6.0 72.0]\n",
            " ['PARTAI BURUH' 44.0 11003.0 1.0 6.0 52.0]\n",
            " ['PARTAI BURUH' 44.0 11003.0 1.0 6.0 397.0]]\n"
          ]
        }
      ]
    },
    {
      "cell_type": "code",
      "source": [
        "from sklearn.compose import ColumnTransformer\n",
        "from sklearn.preprocessing import OneHotEncoder\n",
        "\n",
        "ct = ColumnTransformer(transformers=[('encoder', OneHotEncoder(), [0])], remainder='passthrough')\n",
        "\n",
        "# Ubah matriks sparse ke matriks padat menggunakan .toarray()\n",
        "x = ct.fit_transform(x.toarray())"
      ],
      "metadata": {
        "id": "VDTBpidoI7QZ"
      },
      "execution_count": null,
      "outputs": []
    },
    {
      "cell_type": "code",
      "source": [
        "print(x)"
      ],
      "metadata": {
        "colab": {
          "base_uri": "https://localhost:8080/"
        },
        "id": "6t6uxTwMLQ9w",
        "outputId": "ad9e80a6-21bf-45fa-b768-bd21f24e04d8"
      },
      "execution_count": null,
      "outputs": [
        {
          "output_type": "stream",
          "name": "stdout",
          "text": [
            "  (0, 0)\t1.0\n",
            "  (0, 30)\t1.0\n",
            "  (0, 31)\t18578.0\n",
            "  (0, 32)\t1.0\n",
            "  (0, 33)\t1.0\n",
            "  (0, 34)\t594.0\n",
            "  (1, 0)\t1.0\n",
            "  (1, 30)\t1.0\n",
            "  (1, 31)\t18578.0\n",
            "  (1, 32)\t1.0\n",
            "  (1, 33)\t1.0\n",
            "  (1, 34)\t943.0\n",
            "  (2, 0)\t1.0\n",
            "  (2, 30)\t1.0\n",
            "  (2, 31)\t18578.0\n",
            "  (2, 32)\t4.629353233830845\n",
            "  (2, 33)\t1.0\n",
            "  (2, 34)\t1730.0\n",
            "  (3, 0)\t1.0\n",
            "  (3, 30)\t1.0\n",
            "  (3, 31)\t18578.0\n",
            "  (3, 32)\t4.629353233830845\n",
            "  (3, 33)\t1.0\n",
            "  (3, 34)\t2508.0\n",
            "  (4, 0)\t1.0\n",
            "  :\t:\n",
            "  (420, 34)\t402.0\n",
            "  (421, 5)\t1.0\n",
            "  (421, 30)\t44.0\n",
            "  (421, 31)\t11003.0\n",
            "  (421, 32)\t1.0\n",
            "  (421, 33)\t6.0\n",
            "  (421, 34)\t3065.0\n",
            "  (422, 5)\t1.0\n",
            "  (422, 30)\t44.0\n",
            "  (422, 31)\t11003.0\n",
            "  (422, 32)\t1.0\n",
            "  (422, 33)\t6.0\n",
            "  (422, 34)\t72.0\n",
            "  (423, 5)\t1.0\n",
            "  (423, 30)\t44.0\n",
            "  (423, 31)\t11003.0\n",
            "  (423, 32)\t1.0\n",
            "  (423, 33)\t6.0\n",
            "  (423, 34)\t52.0\n",
            "  (424, 5)\t1.0\n",
            "  (424, 30)\t44.0\n",
            "  (424, 31)\t11003.0\n",
            "  (424, 32)\t1.0\n",
            "  (424, 33)\t6.0\n",
            "  (424, 34)\t397.0\n"
          ]
        }
      ]
    },
    {
      "cell_type": "code",
      "source": [
        "from sklearn.preprocessing import LabelEncoder\n",
        "le = LabelEncoder()\n",
        "y = le.fit_transform(y)"
      ],
      "metadata": {
        "id": "Ec31gL3yMQ_A"
      },
      "execution_count": null,
      "outputs": []
    },
    {
      "cell_type": "code",
      "source": [
        "print (y)"
      ],
      "metadata": {
        "colab": {
          "base_uri": "https://localhost:8080/"
        },
        "id": "XRJ3UMZ0MhS6",
        "outputId": "1c275dee-ac80-44a5-ce0c-764049ef3186"
      },
      "execution_count": null,
      "outputs": [
        {
          "output_type": "stream",
          "name": "stdout",
          "text": [
            "[0 0 0 1 0 0 0 0 0 0 0 0 0 0 0 0 0 0 0 0 0 0 0 0 0 0 0 0 0 0 0 0 0 0 0 0 0\n",
            " 0 0 0 0 0 0 0 0 0 1 0 0 0 0 0 0 0 0 0 0 0 0 0 0 0 0 0 0 0 0 0 0 0 1 0 0 0\n",
            " 0 0 0 0 0 0 0 0 0 0 0 0 0 0 0 0 1 0 0 0 1 0 0 0 0 0 0 0 0 0 1 0 0 0 0 0 0\n",
            " 0 0 0 0 0 0 1 0 0 0 0 0 0 1 0 0 0 0 0 0 0 0 0 1 0 0 1 0 0 0 0 1 0 0 0 0 0\n",
            " 1 0 0 0 0 0 0 0 1 0 0 0 0 0 0 0 0 1 0 0 0 1 0 0 0 0 0 1 0 0 0 0 0 0 0 0 0\n",
            " 1 0 1 0 0 0 0 1 0 1 0 0 0 0 0 0 0 0 0 0 0 0 0 0 0 0 0 0 0 0 0 0 0 0 0 0 0\n",
            " 0 0 0 1 0 0 0 0 0 0 0 0 0 0 1 1 0 0 0 0 0 0 1 0 0 0 0 0 0 0 0 0 1 0 0 0 0\n",
            " 0 1 0 0 0 0 0 0 0 1 0 0 0 0 0 1 0 0 0 0 0 0 0 0 0 0 0 0 0 0 0 0 0 0 0 0 0\n",
            " 0 1 1 0 0 0 0 0 0 0 0 0 1 0 0 0 0 0 0 1 1 0 0 0 0 0 1 1 1 0 0 0 0 0 0 0 1\n",
            " 1 0 0 0 0 0 0 0 0 1 0 0 0 0 0 1 0 1 0 0 0 0 0 0 0 0 0 0 0 0 0 1 0 0 0 0 1\n",
            " 0 0 1 0 0 1 0 0 0 0 0 0 0 0 1 1 0 0 0 0 0 0 0 0 0 0 0 0 0 0 0 0 0 0 0 0 0\n",
            " 0 0 0 0 0 0 0 0 0 0 0 1 0 0 0 0 0 0]\n"
          ]
        }
      ]
    },
    {
      "cell_type": "code",
      "source": [
        "from sklearn.model_selection import train_test_split\n",
        "x_train, x_test, y_train, y_test = train_test_split(x,y,test_size = 0.2, random_state = 1)"
      ],
      "metadata": {
        "id": "ErTW9tPCM5Qt"
      },
      "execution_count": null,
      "outputs": []
    },
    {
      "cell_type": "code",
      "source": [
        "print(x_train)"
      ],
      "metadata": {
        "colab": {
          "base_uri": "https://localhost:8080/"
        },
        "id": "vzINqaEbNVqy",
        "outputId": "c9adf9c6-cd08-4405-b600-889916998d26"
      },
      "execution_count": null,
      "outputs": [
        {
          "output_type": "stream",
          "name": "stdout",
          "text": [
            "[[1.00000000e+00 0.00000000e+00 0.00000000e+00 ... 0.00000000e+00\n",
            "  2.00000000e+00 2.14300000e+03]\n",
            " [1.00000000e+00 0.00000000e+00 0.00000000e+00 ... 5.00000000e+00\n",
            "  3.56521739e+00 1.59000000e+02]\n",
            " [1.00000000e+00 0.00000000e+00 0.00000000e+00 ... 1.30000000e+01\n",
            "  4.00000000e+00 2.17300000e+03]\n",
            " ...\n",
            " [1.00000000e+00 0.00000000e+00 0.00000000e+00 ... 0.00000000e+00\n",
            "  2.00000000e+00 1.66900000e+03]\n",
            " [1.00000000e+00 0.00000000e+00 0.00000000e+00 ... 6.00000000e+00\n",
            "  2.00000000e+00 4.25000000e+02]\n",
            " [1.00000000e+00 0.00000000e+00 0.00000000e+00 ... 0.00000000e+00\n",
            "  5.00000000e+00 1.08391940e+03]]\n"
          ]
        }
      ]
    },
    {
      "cell_type": "code",
      "source": [
        "print(x_test)"
      ],
      "metadata": {
        "colab": {
          "base_uri": "https://localhost:8080/"
        },
        "id": "3HHJ8ehLN2Df",
        "outputId": "6bd158ea-17be-4213-ec09-94288fdf3073"
      },
      "execution_count": null,
      "outputs": [
        {
          "output_type": "stream",
          "name": "stdout",
          "text": [
            "[[1.000e+00 0.000e+00 0.000e+00 ... 8.000e+00 3.000e+00 2.951e+03]\n",
            " [1.000e+00 0.000e+00 0.000e+00 ... 5.000e+00 1.000e+00 3.380e+02]\n",
            " [1.000e+00 0.000e+00 0.000e+00 ... 5.000e+00 6.000e+00 1.260e+02]\n",
            " ...\n",
            " [1.000e+00 0.000e+00 0.000e+00 ... 0.000e+00 6.000e+00 2.200e+01]\n",
            " [1.000e+00 0.000e+00 0.000e+00 ... 5.000e+00 2.000e+00 5.050e+02]\n",
            " [1.000e+00 0.000e+00 0.000e+00 ... 1.000e+00 2.000e+00 3.149e+03]]\n"
          ]
        }
      ]
    },
    {
      "cell_type": "code",
      "source": [
        "print(y_train)"
      ],
      "metadata": {
        "colab": {
          "base_uri": "https://localhost:8080/"
        },
        "id": "lRFqLi_POG1E",
        "outputId": "d46e4122-e199-40d2-ff9f-43aec725f923"
      },
      "execution_count": null,
      "outputs": [
        {
          "output_type": "stream",
          "name": "stdout",
          "text": [
            "[0 0 0 0 0 0 0 0 0 0 0 0 0 0 0 0 0 0 0 0 0 0 0 0 0 0 0 0 0 0 0 0 0 0 0 0 0\n",
            " 0 0 0 0 0 0 0 0 0 0 0 0 1 0 0 0 0 0 0 0 0 0 0 0 0 0 0 0 0 0 0 0 0 0 0 0 0\n",
            " 0 0 1 0 0 0 0 0 0 0 0 0 0 0 0 0 0 0 0 0 0 0 1 0 0 0 1 0 0 1 0 0 0 0 0 0 0\n",
            " 1 0 0 0 0 0 0 0 0 0 0 0 0 0 0 0 1 0 0 0 0 0 1 0 0 0 0 0 1 0 0 1 1 0 0 0 0\n",
            " 0 0 0 0 1 0 0 0 0 0 0 0 0 0 0 1 0 0 0 0 0 0 1 0 1 0 0 0 0 0 1 0 0 0 1 0 0\n",
            " 0 1 0 0 0 0 0 0 0 0 0 0 0 0 0 0 0 0 0 0 0 0 0 1 0 0 0 0 0 0 0 0 1 0 0 1 0\n",
            " 0 0 0 0 0 0 0 0 0 1 0 0 0 1 0 0 0 0 1 0 0 0 0 0 0 0 0 0 0 0 0 0 0 0 0 0 0\n",
            " 0 0 0 0 0 0 0 1 0 0 0 0 0 0 1 0 0 0 0 0 0 0 1 0 0 1 0 0 0 0 1 0 0 0 0 0 0\n",
            " 0 0 0 0 1 1 0 0 0 0 0 0 0 0 0 0 0 0 0 0 0 1 0 0 0 0 1 0 0 0 0 1 0 0 0 0 0\n",
            " 0 0 0 0 0 0 0]\n"
          ]
        }
      ]
    },
    {
      "cell_type": "code",
      "source": [
        "print(y_test)"
      ],
      "metadata": {
        "colab": {
          "base_uri": "https://localhost:8080/"
        },
        "id": "Lx-vZqwDOJDF",
        "outputId": "e627f2f2-9920-4222-fbe3-953e66308b44"
      },
      "execution_count": null,
      "outputs": [
        {
          "output_type": "stream",
          "name": "stdout",
          "text": [
            "[0 0 0 0 0 0 1 0 1 0 1 0 0 0 0 0 1 0 0 0 0 0 0 0 0 0 0 0 1 0 0 0 0 0 0 0 0\n",
            " 0 0 0 0 0 0 0 1 0 0 1 0 1 0 1 0 0 1 0 0 0 0 1 0 0 0 0 1 0 0 0 0 1 0 0 0 0\n",
            " 0 0 0 0 0 0 0 0 0 0 1]\n"
          ]
        }
      ]
    },
    {
      "cell_type": "code",
      "source": [
        "from sklearn.preprocessing import StandardScaler\n",
        "sc = StandardScaler()\n",
        "x_train[:, 3:] = sc.fit_transform(x_train[:, 3:])\n",
        "x_test[:, 3:] = sc.transform(x_test[:, 3:])"
      ],
      "metadata": {
        "id": "0y1Q0EF5Odi_"
      },
      "execution_count": null,
      "outputs": []
    },
    {
      "cell_type": "code",
      "source": [
        "print(x_train)"
      ],
      "metadata": {
        "colab": {
          "base_uri": "https://localhost:8080/"
        },
        "id": "bKlCFxqDP7gO",
        "outputId": "a1e275b3-f731-466b-d9a5-4741a4304157"
      },
      "execution_count": null,
      "outputs": [
        {
          "output_type": "stream",
          "name": "stdout",
          "text": [
            "[[ 1.          0.          0.         ... -1.12439987 -0.94087728\n",
            "   0.99977301]\n",
            " [ 1.          0.          0.         ...  0.07235704  0.02981877\n",
            "  -0.74044837]\n",
            " [ 1.          0.          0.         ...  1.98716809  0.29945656\n",
            "   1.02608684]\n",
            " ...\n",
            " [ 1.          0.          0.         ... -1.12439987 -0.94087728\n",
            "   0.58401447]\n",
            " [ 1.          0.          0.         ...  0.31170842 -0.94087728\n",
            "  -0.5071324 ]\n",
            " [ 1.          0.          0.         ... -1.12439987  0.91962347\n",
            "   0.07082406]]\n"
          ]
        }
      ]
    },
    {
      "cell_type": "code",
      "source": [
        "print(x_test)"
      ],
      "metadata": {
        "colab": {
          "base_uri": "https://localhost:8080/"
        },
        "id": "0Ofw1ttXQDBz",
        "outputId": "c54dc7c9-6c0d-4966-d16d-c6b6846073a7"
      },
      "execution_count": null,
      "outputs": [
        {
          "output_type": "stream",
          "name": "stdout",
          "text": [
            "[[ 1.          0.          0.         ...  0.79041118 -0.32071036\n",
            "   1.7084922 ]\n",
            " [ 1.          0.          0.         ...  0.07235704 -1.56104419\n",
            "  -0.58344251]\n",
            " [ 1.          0.          0.         ...  0.07235704  1.53979039\n",
            "  -0.76939359]\n",
            " ...\n",
            " [ 1.          0.          0.         ... -1.12439987  1.53979039\n",
            "  -0.86061487]\n",
            " [ 1.          0.          0.         ...  0.07235704 -0.94087728\n",
            "  -0.43696218]\n",
            " [ 1.          0.          0.         ... -0.88504849 -0.94087728\n",
            "   1.88216348]]\n"
          ]
        }
      ]
    }
  ]
}